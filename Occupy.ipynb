{
 "cells": [
  {
   "cell_type": "code",
   "execution_count": 5,
   "id": "5843bb4e",
   "metadata": {},
   "outputs": [
    {
     "name": "stdout",
     "output_type": "stream",
     "text": [
      "Allocating 41.44 GiB of GPU memory...\n",
      "Allocation successful.\n",
      "3.81 GB left\n",
      "3.54 GiB left\n"
     ]
    }
   ],
   "source": [
    "import cupy as cp\n",
    "\n",
    "\n",
    "bytes_to_alloc = 45 * 1000**3  - 500*1000**2    # >2GB\n",
    "# bytes_to_alloc = 42 * 1000**3  - 500*1000**2    # >4GB\n",
    "num_elements = bytes_to_alloc // 4  # float32 每个元素 4字节\n",
    "\n",
    "print(f\"Allocating {bytes_to_alloc / 1024**3:.2f} GiB of GPU memory...\")\n",
    "try:\n",
    "    arr = cp.empty((num_elements,), dtype=cp.float32)\n",
    "    print(\"Allocation successful.\")\n",
    "    print(f\"{(46068*1024**2-bytes_to_alloc) / 1000**3:.2f} GB left\")\n",
    "    print(f\"{(46068*1024**2-bytes_to_alloc) / 1024**3:.2f} GiB left\")\n",
    "    \n",
    "except cp.cuda.memory.OutOfMemoryError:\n",
    "    print(\"Failed to allocate 16GB on GPU.\")\n"
   ]
  },
  {
   "cell_type": "code",
   "execution_count": 6,
   "id": "c48e7194",
   "metadata": {},
   "outputs": [
    {
     "name": "stdout",
     "output_type": "stream",
     "text": [
      "Memory freed.\n"
     ]
    }
   ],
   "source": [
    "del arr\n",
    "cp._default_memory_pool.free_all_blocks()\n",
    "print(\"Memory freed.\")"
   ]
  }
 ],
 "metadata": {
  "kernelspec": {
   "display_name": "cuda",
   "language": "python",
   "name": "python3"
  },
  "language_info": {
   "codemirror_mode": {
    "name": "ipython",
    "version": 3
   },
   "file_extension": ".py",
   "mimetype": "text/x-python",
   "name": "python",
   "nbconvert_exporter": "python",
   "pygments_lexer": "ipython3",
   "version": "3.9.21"
  }
 },
 "nbformat": 4,
 "nbformat_minor": 5
}
